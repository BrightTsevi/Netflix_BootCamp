{
 "cells": [
  {
   "cell_type": "code",
   "execution_count": 1,
   "metadata": {},
   "outputs": [],
   "source": [
    "# Import the os and csv libraries\n"
   ]
  },
  {
   "cell_type": "code",
   "execution_count": 2,
   "metadata": {},
   "outputs": [],
   "source": [
    "# Set path for importing and exporting our CSV file\n",
    "\n",
    "\n",
    "# Open a connection to the tab-delimited import file, and the comma-delmited export file\n",
    "\n",
    "\n",
    "        # Create your instances of csv.reader() and csv.writer() methods to import and export your files\n",
    "        # CSV reader specifies delimiter and variable that holds contents\n",
    "\n",
    "        \n",
    "        # CSV writer also specifies delimiter and variable that exports contents\n",
    "\n",
    "\n",
    "        # Read the header row first \n",
    "\n",
    "        \n",
    "        # Update the header row to remove the \"ratingLevel\" from your list of headers\n",
    "\n",
    "        \n",
    "        # Write your new header row to the new comma-delimited outfile\n",
    "\n",
    "        \n",
    "        # Iterate through the csv file\n",
    "\n",
    "    \n",
    "        # Concatenate the second and third columns using a hyphen \"-\" to make a single rating column\n",
    "   \n",
    "            \n",
    "        # Remove the third column from your row\n",
    "\n",
    "            \n",
    "        # Check if the fifth column is \"NA\", if so replace with the value of \"50\"\n",
    "\n",
    "          \n",
    "        # Print out the row and write row to the new comma-delimited outfile\n",
    "\n",
    "        "
   ]
  },
  {
   "cell_type": "markdown",
   "metadata": {},
   "source": [
    "## Bonus (Optional)"
   ]
  },
  {
   "cell_type": "code",
   "execution_count": 3,
   "metadata": {},
   "outputs": [],
   "source": [
    "# Import the os and csv libraries\n",
    "import os \n",
    "import csv\n",
    "import json"
   ]
  },
  {
   "cell_type": "code",
   "execution_count": 4,
   "metadata": {},
   "outputs": [],
   "source": [
    "# Set path for importing and exporting our CSV file\n",
    "csvpath = os.path.join('../','Resources', 'netflix_ratings.txt')\n",
    "outpath = os.path.join('../','Resources', 'netflix_ratings_cleaned.json')\n",
    "\n",
    "# Open a connection to the tab-delimited import file, and the comma-delmited export file\n",
    "with open(csvpath,'r') as csvfile:\n",
    "    with open(outpath,'w') as outfile:\n",
    "        \n",
    "        # Create your instances of csv.reader() and csv.writer() methods to import and export your files\n",
    "        # CSV reader specifies delimiter and variable that holds contents\n",
    "        csvreader = csv.DictReader(csvfile, delimiter='\\t')\n",
    "        \n",
    "        # Create an export dictionary to contain all of your cleaned rows\n",
    "        rows = {}\n",
    "        \n",
    "        # Iterate through the csv file\n",
    "        for row in csvreader:\n",
    "            \n",
    "        # Concatenate the second and third columns using a hyphen \"-\" to make a single rating column\n",
    "            row[\"rating\"] = (row[\"rating\"]+\" - \"+row[\"ratingLevel\"])      \n",
    "            \n",
    "        # Remove the third column from your row\n",
    "            row.pop(\"ratingLevel\")\n",
    "            \n",
    "        # Check if the 'user rating score' value is \"NA\", if so replace with the value of \"50\"\n",
    "            if row['user rating score'] == \"NA\":\n",
    "                row['user rating score'] = \"50\"\n",
    "          \n",
    "        # Add cleaned row to export dictionary, use `title` as key\n",
    "            rows[row['title']] = row\n",
    "        \n",
    "        # Export all of your cleaned rows to your JSON outfile \n",
    "        outfile.write(json.dumps(rows,indent=4))\n"
   ]
  },
  {
   "cell_type": "code",
   "execution_count": null,
   "metadata": {},
   "outputs": [],
   "source": []
  }
 ],
 "metadata": {
  "kernelspec": {
   "display_name": "Python 3",
   "language": "python",
   "name": "python3"
  },
  "language_info": {
   "codemirror_mode": {
    "name": "ipython",
    "version": 3
   },
   "file_extension": ".py",
   "mimetype": "text/x-python",
   "name": "python",
   "nbconvert_exporter": "python",
   "pygments_lexer": "ipython3",
   "version": "3.7.6"
  }
 },
 "nbformat": 4,
 "nbformat_minor": 4
}
