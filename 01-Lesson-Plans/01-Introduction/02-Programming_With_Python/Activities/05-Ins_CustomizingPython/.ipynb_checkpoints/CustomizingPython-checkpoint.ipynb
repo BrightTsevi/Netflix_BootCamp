{
 "cells": [
  {
   "cell_type": "code",
   "execution_count": 1,
   "metadata": {},
   "outputs": [
    {
     "name": "stdout",
     "output_type": "stream",
     "text": [
      "Hello!\n"
     ]
    }
   ],
   "source": [
    "# Create a basic function with no arguments\n",
    "def print_hello():\n",
    "    print(f\"Hello!\")\n",
    "\n",
    "print_hello()"
   ]
  },
  {
   "cell_type": "code",
   "execution_count": 2,
   "metadata": {},
   "outputs": [
    {
     "name": "stdout",
     "output_type": "stream",
     "text": [
      "Hello Bob Smith!\n"
     ]
    }
   ],
   "source": [
    "# Create a basic function with positional arguments\n",
    "def print_name(name):\n",
    "    print(f\"Hello {name}!\")\n",
    "\n",
    "print_name(\"Bob Smith\")"
   ]
  },
  {
   "cell_type": "code",
   "execution_count": 3,
   "metadata": {},
   "outputs": [
    {
     "name": "stdout",
     "output_type": "stream",
     "text": [
      "Hello  !\n",
      "Hello Bob Smith!\n"
     ]
    }
   ],
   "source": [
    "# Create a basic function with keyword arguments\n",
    "def print_name(lastname = \"\", firstname = \"\"):\n",
    "    print(f\"Hello {firstname} {lastname}!\")\n",
    "\n",
    "# Printing with default values\n",
    "print_name()\n",
    "\n",
    "# Printing with non-default keyword arguments\n",
    "print_name(firstname=\"Bob\",lastname=\"Smith\")"
   ]
  },
  {
   "cell_type": "code",
   "execution_count": 4,
   "metadata": {},
   "outputs": [
    {
     "data": {
      "text/plain": [
       "'Hello Bob Smith!'"
      ]
     },
     "execution_count": 4,
     "metadata": {},
     "output_type": "execute_result"
    }
   ],
   "source": [
    "# Demonstrate a custom function that returns a value back to the user\n",
    "def print_name(lastname = \"\", firstname = \"\"):\n",
    "    return f\"Hello {firstname} {lastname}!\"\n",
    "text_to_print = print_name(firstname=\"Bob\",lastname=\"Smith\")\n",
    "text_to_print"
   ]
  },
  {
   "cell_type": "code",
   "execution_count": 5,
   "metadata": {},
   "outputs": [
    {
     "name": "stdout",
     "output_type": "stream",
     "text": [
      "4\n",
      "1\n"
     ]
    }
   ],
   "source": [
    "# Demonstrate a custom function using numerical values\n",
    "def divide_with_remainder(number,divide_by=2):\n",
    "    # Calculate the whole number and remainder when dividing by divide_by\n",
    "    whole = number // 2\n",
    "    remain = number % 2\n",
    "    return (whole,remain)\n",
    "\n",
    "whole_number , remainder = divide_with_remainder(9,2)\n",
    "print(whole_number)\n",
    "print(remainder)"
   ]
  },
  {
   "cell_type": "code",
   "execution_count": 6,
   "metadata": {},
   "outputs": [
    {
     "name": "stdout",
     "output_type": "stream",
     "text": [
      "[3, 4, 5, 6, 7, 8, 9, 10, 11]\n"
     ]
    }
   ],
   "source": [
    "# Demonstrate a simple list comprehension example\n",
    "my_list = [1,2,3,4,5,6,7,8,9]\n",
    "my_new_list = [x+2 for x in my_list]\n",
    "print(my_new_list)"
   ]
  },
  {
   "cell_type": "code",
   "execution_count": 7,
   "metadata": {},
   "outputs": [
    {
     "name": "stdout",
     "output_type": "stream",
     "text": [
      "[(0, 1), (1, 0), (1, 1), (2, 0), (2, 1), (3, 0), (3, 1), (4, 0), (4, 1)]\n"
     ]
    }
   ],
   "source": [
    "# Demonstrate how to use a custom function in list comprehension\n",
    "my_division_list = [divide_with_remainder(x) for x in my_list]\n",
    "print(my_division_list)"
   ]
  },
  {
   "cell_type": "code",
   "execution_count": 8,
   "metadata": {},
   "outputs": [
    {
     "data": {
      "text/plain": [
       "123000"
      ]
     },
     "execution_count": 8,
     "metadata": {},
     "output_type": "execute_result"
    }
   ],
   "source": [
    "round(123123,-3)"
   ]
  },
  {
   "cell_type": "code",
   "execution_count": 9,
   "metadata": {},
   "outputs": [
    {
     "data": {
      "text/plain": [
       "52.615"
      ]
     },
     "execution_count": 9,
     "metadata": {},
     "output_type": "execute_result"
    }
   ],
   "source": [
    "round(12312/234,3)"
   ]
  },
  {
   "cell_type": "code",
   "execution_count": 10,
   "metadata": {},
   "outputs": [
    {
     "name": "stdout",
     "output_type": "stream",
     "text": [
      "[3.429, 93.429, 0.429, 137.286, 3.0]\n"
     ]
    }
   ],
   "source": [
    "# Create a custom function that divides by seven and rounds to the nearest hundredth \n",
    "def divide_by_seven(num):\n",
    "    return round(num / 7,3)\n",
    "print([divide_by_seven(number) for number in [24,654,3,961,21]])"
   ]
  },
  {
   "cell_type": "code",
   "execution_count": 11,
   "metadata": {},
   "outputs": [
    {
     "name": "stdout",
     "output_type": "stream",
     "text": [
      "[3.429, 93.429, 0.429, 137.286, 3.0]\n",
      "[3.429, 93.429, 0.429, 137.286, 3.0]\n"
     ]
    }
   ],
   "source": [
    "# Recreate the previous list comprehension example using the map function\n",
    "list_comprehension = [divide_by_seven(number) for number in [24,654,3,961,21]]\n",
    "map_function = map(divide_by_seven,(24,654,3,961,21))\n",
    "print(list_comprehension)\n",
    "print(list(map_function))"
   ]
  },
  {
   "cell_type": "code",
   "execution_count": 12,
   "metadata": {},
   "outputs": [
    {
     "name": "stdout",
     "output_type": "stream",
     "text": [
      "[3.429, 93.429, 0.429, 137.286, 3.0]\n"
     ]
    }
   ],
   "source": [
    "# Demonstrate how to implement our previous example as a lambda function within our map function\n",
    "map_function = map(lambda x: round(x/7,3),(24,654,3,961,21))\n",
    "print(list(map_function))"
   ]
  },
  {
   "cell_type": "code",
   "execution_count": null,
   "metadata": {},
   "outputs": [],
   "source": []
  }
 ],
 "metadata": {
  "kernelspec": {
   "display_name": "Python 3",
   "language": "python",
   "name": "python3"
  },
  "language_info": {
   "codemirror_mode": {
    "name": "ipython",
    "version": 3
   },
   "file_extension": ".py",
   "mimetype": "text/x-python",
   "name": "python",
   "nbconvert_exporter": "python",
   "pygments_lexer": "ipython3",
   "version": "3.7.6"
  }
 },
 "nbformat": 4,
 "nbformat_minor": 4
}
