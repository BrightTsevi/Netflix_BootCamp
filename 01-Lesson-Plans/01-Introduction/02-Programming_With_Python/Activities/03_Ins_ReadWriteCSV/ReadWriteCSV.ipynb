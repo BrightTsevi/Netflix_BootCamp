{
 "cells": [
  {
   "cell_type": "code",
   "execution_count": 1,
   "metadata": {},
   "outputs": [],
   "source": [
    "# First we'll import the os module\n",
    "# This will allow us to create file paths across operating systems\n",
    "import os\n",
    "\n",
    "# Module for reading CSV files\n",
    "import csv"
   ]
  },
  {
   "cell_type": "code",
   "execution_count": 3,
   "metadata": {},
   "outputs": [
    {
     "name": "stdout",
     "output_type": "stream",
     "text": [
      "CSV Header: ['First Name', 'Last Name', 'SSN']\n",
      "['Tina', 'Fleming', '619-16-7988']\n",
      "['Erica', 'Shah', '164-51-7615']\n",
      "['Paula', 'Ortiz', '051-83-3290']\n",
      "['James', 'Hendricks', '776-83-2884']\n",
      "['Lauren', 'King', '197-94-2398']\n",
      "['David', 'Cowan', '252-92-1832']\n",
      "['Andrew', 'Burton', '296-23-6842']\n",
      "['Julian', 'Baker', '337-40-7543']\n",
      "['Scott', 'Castro', '399-46-5595']\n",
      "['Billy', 'Rodriguez', '014-18-2503']\n",
      "['Darrell', 'Leblanc', '005-82-7918']\n",
      "['David', 'Hammond', '561-17-6312']\n"
     ]
    }
   ],
   "source": [
    "# Set path for importing our CSV file\n",
    "csvpath = os.path.join('Resources', 'accounting.csv')\n",
    "\n",
    "# Import our CSV file using csv.reader()\n",
    "with open(csvpath) as csvfile:\n",
    "\n",
    "    # CSV reader specifies delimiter and variable that holds contents\n",
    "    csvreader = csv.reader(csvfile, delimiter=',')\n",
    "\n",
    "    # Read the header row first (skip this step if there is no header)\n",
    "    csv_header = next(csvreader)\n",
    "    print(f\"CSV Header: {csv_header}\")\n",
    "\n",
    "    # Read each row of data after the header\n",
    "    for row in csvreader:\n",
    "        print(row)"
   ]
  },
  {
   "cell_type": "code",
   "execution_count": 8,
   "metadata": {},
   "outputs": [
    {
     "name": "stdout",
     "output_type": "stream",
     "text": [
      "CSV Header: ['First Name', 'Last Name', 'SSN']\n",
      "['Tina', 'Fleming', '7988']\n",
      "['Erica', 'Shah', '7615']\n",
      "['Paula', 'Ortiz', '3290']\n",
      "['James', 'Hendricks', '2884']\n",
      "['Lauren', 'King', '2398']\n",
      "['David', 'Cowan', '1832']\n",
      "['Andrew', 'Burton', '6842']\n",
      "['Julian', 'Baker', '7543']\n",
      "['Scott', 'Castro', '5595']\n",
      "['Billy', 'Rodriguez', '2503']\n",
      "['Darrell', 'Leblanc', '7918']\n",
      "['David', 'Hammond', '6312']\n"
     ]
    }
   ],
   "source": [
    "# Set path for importing our CSV file\n",
    "csvpath = os.path.join('Resources', 'accounting.csv')\n",
    "\n",
    "# Import our CSV file using csv.reader()\n",
    "with open(csvpath) as csvfile:\n",
    "\n",
    "    # CSV reader specifies delimiter and variable that holds contents\n",
    "    csvreader = csv.reader(csvfile, delimiter=',')\n",
    "\n",
    "    # Read the header row first (skip this step if there is no header)\n",
    "    csv_header = next(csvreader)\n",
    "    print(f\"CSV Header: {csv_header}\")\n",
    "\n",
    "    # Read each row of data after the header, mask the SSNs\n",
    "    for row in csvreader:\n",
    "        row[2] = row[2][7:]\n",
    "        print(row)"
   ]
  },
  {
   "cell_type": "code",
   "execution_count": 9,
   "metadata": {},
   "outputs": [
    {
     "name": "stdout",
     "output_type": "stream",
     "text": [
      "CSV Header: ['First Name', 'Last Name', 'SSN']\n",
      "['Tina', 'Fleming', '7988']\n",
      "['Erica', 'Shah', '7615']\n",
      "['Paula', 'Ortiz', '3290']\n",
      "['James', 'Hendricks', '2884']\n",
      "['Lauren', 'King', '2398']\n",
      "['David', 'Cowan', '1832']\n",
      "['Andrew', 'Burton', '6842']\n",
      "['Julian', 'Baker', '7543']\n",
      "['Scott', 'Castro', '5595']\n",
      "['Billy', 'Rodriguez', '2503']\n",
      "['Darrell', 'Leblanc', '7918']\n",
      "['David', 'Hammond', '6312']\n"
     ]
    }
   ],
   "source": [
    "# Set path for importing our CSV file\n",
    "csvpath = os.path.join('Resources', 'accounting.csv')\n",
    "\n",
    "# Import our CSV file using csv.reader()\n",
    "with open(csvpath) as csvfile:\n",
    "\n",
    "    # CSV reader specifies delimiter and variable that holds contents\n",
    "    csvreader = csv.reader(csvfile, delimiter=',')\n",
    "\n",
    "    # Read the header row first (skip this step if there is no header)\n",
    "    csv_header = next(csvreader)\n",
    "    print(f\"CSV Header: {csv_header}\")\n",
    "\n",
    "    # Read each row of data after the header, mask the SSNs\n",
    "    for row in csvreader:\n",
    "        row[2] = row[2][-4:]\n",
    "        print(row)"
   ]
  },
  {
   "cell_type": "code",
   "execution_count": 13,
   "metadata": {},
   "outputs": [
    {
     "name": "stdout",
     "output_type": "stream",
     "text": [
      "CSV Header: ['First Name', 'Last Name', 'Masked_SSN']\n",
      "['Tina', 'Fleming', '7988']\n",
      "['Erica', 'Shah', '7615']\n",
      "['Paula', 'Ortiz', '3290']\n",
      "['James', 'Hendricks', '2884']\n",
      "['Lauren', 'King', '2398']\n",
      "['David', 'Cowan', '1832']\n",
      "['Andrew', 'Burton', '6842']\n",
      "['Julian', 'Baker', '7543']\n",
      "['Scott', 'Castro', '5595']\n",
      "['Billy', 'Rodriguez', '2503']\n",
      "['Darrell', 'Leblanc', '7918']\n",
      "['David', 'Hammond', '6312']\n"
     ]
    }
   ],
   "source": [
    "# Set path for importing and exporting our CSV file\n",
    "csvpath = os.path.join('Resources', 'accounting.csv')\n",
    "outpath = os.path.join('Resources', 'accounting_masked.csv')\n",
    "\n",
    "# Import our CSV file using csv.reader() and export with csv.writer()\n",
    "with open(csvpath) as csvfile:\n",
    "    with open(outpath,'w') as outfile:\n",
    "        # CSV reader specifies delimiter and variable that holds contents\n",
    "        csvreader = csv.reader(csvfile, delimiter=',')\n",
    "\n",
    "        # CSV writer also specifies delimiter and variable that exports contents\n",
    "        csvwriter = csv.writer(outfile, delimiter=',')\n",
    "\n",
    "        # Read the header row first (skip this step if there is no header)\n",
    "        csv_header = next(csvreader)\n",
    "        csv_header[2] = \"Masked_SSN\"\n",
    "        csvwriter.writerow(csv_header)\n",
    "        print(f\"CSV Header: {csv_header}\")\n",
    "\n",
    "        # Read each row of data after the header, mask the SSNs\n",
    "        for row in csvreader:\n",
    "            row[2] = row[2][-4:]\n",
    "            csvwriter.writerow(row)\n",
    "            print(row)"
   ]
  },
  {
   "cell_type": "code",
   "execution_count": null,
   "metadata": {},
   "outputs": [],
   "source": []
  }
 ],
 "metadata": {
  "kernelspec": {
   "display_name": "Python 3",
   "language": "python",
   "name": "python3"
  },
  "language_info": {
   "codemirror_mode": {
    "name": "ipython",
    "version": 3
   },
   "file_extension": ".py",
   "mimetype": "text/x-python",
   "name": "python",
   "nbconvert_exporter": "python",
   "pygments_lexer": "ipython3",
   "version": "3.7.6"
  }
 },
 "nbformat": 4,
 "nbformat_minor": 4
}
