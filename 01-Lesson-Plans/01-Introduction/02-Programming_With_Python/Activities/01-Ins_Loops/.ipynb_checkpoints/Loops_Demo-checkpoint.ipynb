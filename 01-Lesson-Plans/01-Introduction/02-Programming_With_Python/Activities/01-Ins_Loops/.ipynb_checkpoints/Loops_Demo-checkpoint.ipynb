{
 "cells": [
  {
   "cell_type": "code",
   "execution_count": 1,
   "metadata": {},
   "outputs": [
    {
     "name": "stdout",
     "output_type": "stream",
     "text": [
      "0\n",
      "1\n",
      "2\n",
      "3\n",
      "4\n",
      "5\n",
      "6\n",
      "7\n",
      "8\n",
      "9\n"
     ]
    }
   ],
   "source": [
    "# Loop through an iterable range object with single argument\n",
    "for x in range(10):\n",
    "    print(x)"
   ]
  },
  {
   "cell_type": "code",
   "execution_count": 2,
   "metadata": {},
   "outputs": [
    {
     "name": "stdout",
     "output_type": "stream",
     "text": [
      "0\n",
      "1\n",
      "2\n",
      "3\n",
      "4\n",
      "5\n",
      "6\n",
      "7\n",
      "8\n",
      "9\n"
     ]
    }
   ],
   "source": [
    "# Loop through an iterable range object with two arguments\n",
    "for x in range(0,10):\n",
    "    print(x)"
   ]
  },
  {
   "cell_type": "code",
   "execution_count": 3,
   "metadata": {},
   "outputs": [
    {
     "name": "stdout",
     "output_type": "stream",
     "text": [
      "H\n",
      "e\n",
      "l\n",
      "l\n",
      "o\n",
      " \n",
      "W\n",
      "o\n",
      "r\n",
      "l\n",
      "d\n"
     ]
    }
   ],
   "source": [
    "# loop through a string character by character\n",
    "for character in \"Hello World\":\n",
    "    print(character)"
   ]
  },
  {
   "cell_type": "code",
   "execution_count": 4,
   "metadata": {},
   "outputs": [
    {
     "name": "stdout",
     "output_type": "stream",
     "text": [
      "apples\n",
      "oranges\n",
      "pears\n",
      "plums\n"
     ]
    }
   ],
   "source": [
    "# Loop through a list of objects\n",
    "for produce in [\"apples\",\"oranges\",\"pears\",\"plums\"]:\n",
    "    print(produce)"
   ]
  },
  {
   "cell_type": "code",
   "execution_count": 5,
   "metadata": {},
   "outputs": [
    {
     "name": "stdout",
     "output_type": "stream",
     "text": [
      "I am running\n",
      "I am running\n",
      "I am running\n",
      "I am running\n",
      "I am running\n",
      "I am running\n",
      "I am running\n",
      "I am running\n",
      "I am running\n",
      "I am running\n"
     ]
    }
   ],
   "source": [
    "# Demonstrate different logically true statements in Python and use them in a while statement. \n",
    "# First demonstrate the nonzero number.\n",
    "value = 1\n",
    "counter = 0\n",
    "while value:\n",
    "    print('I am running')\n",
    "    \n",
    "    counter += 1\n",
    "    if counter == 10:\n",
    "        value = 0"
   ]
  },
  {
   "cell_type": "code",
   "execution_count": 6,
   "metadata": {},
   "outputs": [
    {
     "name": "stdout",
     "output_type": "stream",
     "text": [
      "This\n",
      "is\n",
      "a\n",
      "list\n",
      "of\n",
      "words\n"
     ]
    }
   ],
   "source": [
    "# Then demonstrate a non-empty collection\n",
    "collection = [\"This\",\"is\",\"a\",\"list\",\"of\",\"words\"]\n",
    "while collection:\n",
    "    print(collection.pop(0))"
   ]
  },
  {
   "cell_type": "code",
   "execution_count": 7,
   "metadata": {},
   "outputs": [
    {
     "name": "stdout",
     "output_type": "stream",
     "text": [
      "10\n",
      "8\n",
      "6\n",
      "4\n"
     ]
    }
   ],
   "source": [
    "# Now demonstrate a conditional statement that returns True\n",
    "value = 10\n",
    "while value > 2:\n",
    "    print(value)\n",
    "    value -= 2"
   ]
  },
  {
   "cell_type": "code",
   "execution_count": 8,
   "metadata": {},
   "outputs": [
    {
     "name": "stdout",
     "output_type": "stream",
     "text": [
      "Running...\n",
      "Running...\n",
      "Running...\n",
      "Running...\n",
      "Running...\n",
      "Running...\n",
      "Running...\n",
      "Running...\n",
      "Running...\n",
      "Running...\n"
     ]
    }
   ],
   "source": [
    "# Lastly demonstrate a while-loop using a boolean variable\n",
    "counter = 0\n",
    "test = True\n",
    "while test:\n",
    "    print(\"Running...\")\n",
    "    counter += 1 \n",
    "    if counter == 10:\n",
    "        test = False"
   ]
  },
  {
   "cell_type": "code",
   "execution_count": 9,
   "metadata": {},
   "outputs": [
    {
     "name": "stdout",
     "output_type": "stream",
     "text": [
      "System is running...\n",
      "System is running...\n",
      "System is running...\n",
      "System is running...\n",
      "System is running...\n",
      "System is running...\n",
      "System is running...\n",
      "System is running...\n",
      "System is running...\n",
      "System is running...\n",
      "Done!\n"
     ]
    }
   ],
   "source": [
    "# Demonstrate a nested for loop in a while-loop\n",
    "value = True\n",
    "while value:\n",
    "    for x in range(10):\n",
    "        print(\"System is running...\")\n",
    "    print(\"Done!\")\n",
    "    value = False    "
   ]
  },
  {
   "cell_type": "code",
   "execution_count": 10,
   "metadata": {},
   "outputs": [
    {
     "name": "stdout",
     "output_type": "stream",
     "text": [
      "For loop number 0 running now. Step 1\n",
      "For loop number 0 running now. Step 2\n",
      "For loop number 0 running now. Step 3\n",
      "For loop number 0 running now. Step 4\n",
      "For loop number 0 running now. Step 5\n",
      "For loop number 1 running now. Step 1\n",
      "For loop number 1 running now. Step 2\n",
      "For loop number 1 running now. Step 3\n",
      "For loop number 1 running now. Step 4\n",
      "For loop number 1 running now. Step 5\n",
      "For loop number 2 running now. Step 1\n",
      "For loop number 2 running now. Step 2\n",
      "For loop number 2 running now. Step 3\n",
      "For loop number 2 running now. Step 4\n",
      "For loop number 2 running now. Step 5\n",
      "For loop number 3 running now. Step 1\n",
      "For loop number 3 running now. Step 2\n",
      "For loop number 3 running now. Step 3\n",
      "For loop number 3 running now. Step 4\n",
      "For loop number 3 running now. Step 5\n",
      "For loop number 4 running now. Step 1\n",
      "For loop number 4 running now. Step 2\n",
      "For loop number 4 running now. Step 3\n",
      "For loop number 4 running now. Step 4\n",
      "For loop number 4 running now. Step 5\n"
     ]
    }
   ],
   "source": [
    "# Demonstrate a break statement in a while-loop\n",
    "for x in range(5):\n",
    "    counter = 1\n",
    "    while True:\n",
    "        print(f\"For loop number {x} running now. Step {counter}\")\n",
    "\n",
    "        if counter % 5 == 0:\n",
    "            break\n",
    "\n",
    "        counter += 1"
   ]
  },
  {
   "cell_type": "code",
   "execution_count": 11,
   "metadata": {},
   "outputs": [
    {
     "name": "stdout",
     "output_type": "stream",
     "text": [
      "The pen is red\n",
      "The pen is blue\n",
      "The pen is red\n",
      "The pen is blue\n"
     ]
    }
   ],
   "source": [
    "# Demonstrate a continue statement in a for-loop\n",
    "for pen in [\"red\",\"blue\",\"red\",\"green\",\"blue\"]:\n",
    "    \n",
    "    if pen == \"green\": \n",
    "        continue\n",
    "\n",
    "    print(f\"The pen is {pen}\")"
   ]
  },
  {
   "cell_type": "code",
   "execution_count": 12,
   "metadata": {},
   "outputs": [
    {
     "name": "stdout",
     "output_type": "stream",
     "text": [
      "Our fraction is 1/4 which equals 0.25\n",
      "Our fraction is 1/3 which equals 0.3333333333333333\n",
      "Our fraction is 1/2 which equals 0.5\n",
      "Our fraction is 1/1 which equals 1.0\n",
      "You cannot divide by zero!\n"
     ]
    }
   ],
   "source": [
    "# Demonstrate a try-except block with a specific exception block\n",
    "try:\n",
    "    numerator = 1\n",
    "    denominator = 5\n",
    "    while True:\n",
    "        denominator -= 1\n",
    "        print(f\"Our fraction is {numerator}/{denominator} which equals {numerator/denominator}\")\n",
    "except ZeroDivisionError:\n",
    "    print(\"You cannot divide by zero!\")"
   ]
  },
  {
   "cell_type": "code",
   "execution_count": 13,
   "metadata": {},
   "outputs": [
    {
     "name": "stdout",
     "output_type": "stream",
     "text": [
      "Our fraction is 1/4 which equals 0.25\n",
      "Our fraction is 1/3 which equals 0.3333333333333333\n",
      "Our fraction is 1/2 which equals 0.5\n",
      "Our fraction is 1/1 which equals 1.0\n"
     ]
    },
    {
     "ename": "ZeroDivisionError",
     "evalue": "division by zero",
     "output_type": "error",
     "traceback": [
      "\u001b[0;31m---------------------------------------------------------------------------\u001b[0m",
      "\u001b[0;31mZeroDivisionError\u001b[0m                         Traceback (most recent call last)",
      "\u001b[0;32m<ipython-input-13-96a051d5c37e>\u001b[0m in \u001b[0;36m<module>\u001b[0;34m\u001b[0m\n\u001b[1;32m      5\u001b[0m     \u001b[0;32mwhile\u001b[0m \u001b[0;32mTrue\u001b[0m\u001b[0;34m:\u001b[0m\u001b[0;34m\u001b[0m\u001b[0;34m\u001b[0m\u001b[0m\n\u001b[1;32m      6\u001b[0m         \u001b[0mdenominator\u001b[0m \u001b[0;34m-=\u001b[0m \u001b[0;36m1\u001b[0m\u001b[0;34m\u001b[0m\u001b[0;34m\u001b[0m\u001b[0m\n\u001b[0;32m----> 7\u001b[0;31m         \u001b[0mprint\u001b[0m\u001b[0;34m(\u001b[0m\u001b[0;34mf\"Our fraction is {numerator}/{denominator} which equals {numerator/denominator}\"\u001b[0m\u001b[0;34m)\u001b[0m\u001b[0;34m\u001b[0m\u001b[0;34m\u001b[0m\u001b[0m\n\u001b[0m\u001b[1;32m      8\u001b[0m \u001b[0;32mexcept\u001b[0m \u001b[0mValueError\u001b[0m\u001b[0;34m:\u001b[0m\u001b[0;34m\u001b[0m\u001b[0;34m\u001b[0m\u001b[0m\n\u001b[1;32m      9\u001b[0m     \u001b[0mprint\u001b[0m\u001b[0;34m(\u001b[0m\u001b[0;34m\"You cannot divide by zero!\"\u001b[0m\u001b[0;34m)\u001b[0m\u001b[0;34m\u001b[0m\u001b[0;34m\u001b[0m\u001b[0m\n",
      "\u001b[0;31mZeroDivisionError\u001b[0m: division by zero"
     ]
    }
   ],
   "source": [
    "# Demonstrate a try-except block with the wrong specific exception block\n",
    "try:\n",
    "    numerator = 1\n",
    "    denominator = 5\n",
    "    while True:\n",
    "        denominator -= 1\n",
    "        print(f\"Our fraction is {numerator}/{denominator} which equals {numerator/denominator}\")\n",
    "except ValueError:\n",
    "    print(\"You cannot divide by zero!\")"
   ]
  },
  {
   "cell_type": "code",
   "execution_count": 14,
   "metadata": {},
   "outputs": [
    {
     "name": "stdout",
     "output_type": "stream",
     "text": [
      "Our fraction is 1/4 which equals 0.25\n",
      "Our fraction is 1/3 which equals 0.3333333333333333\n",
      "Our fraction is 1/2 which equals 0.5\n",
      "Our fraction is 1/1 which equals 1.0\n",
      "That was a close one!\n"
     ]
    }
   ],
   "source": [
    "# Demonstrate a try-except block with multiple exception blocks\n",
    "try:\n",
    "    numerator = 1\n",
    "    denominator = 5\n",
    "    while True:\n",
    "        denominator -= 1\n",
    "        print(f\"Our fraction is {numerator}/{denominator} which equals {numerator/denominator}\")\n",
    "except ValueError:\n",
    "    print(\"You cannot divide by zero!\")\n",
    "except:\n",
    "    print(\"That was a close one!\")"
   ]
  },
  {
   "cell_type": "code",
   "execution_count": 15,
   "metadata": {},
   "outputs": [
    {
     "name": "stdout",
     "output_type": "stream",
     "text": [
      "Our fraction is 1/4 which equals 0.25\n",
      "Our fraction is 1/3 which equals 0.3333333333333333\n",
      "Our fraction is 1/2 which equals 0.5\n",
      "Our fraction is 1/1 which equals 1.0\n",
      "You cannot divide by zero!\n"
     ]
    }
   ],
   "source": [
    "# Demonstrate a try-except block with a raise\n",
    "try:\n",
    "    numerator = 1\n",
    "    denominator = 5\n",
    "    while True:\n",
    "        denominator -= 1\n",
    "        if denominator == 0:\n",
    "            raise ValueError\n",
    "        print(f\"Our fraction is {numerator}/{denominator} which equals {numerator/denominator}\")\n",
    "except ValueError:\n",
    "    print(\"You cannot divide by zero!\")\n",
    "except:\n",
    "    print(\"That was a close one!\")"
   ]
  },
  {
   "cell_type": "code",
   "execution_count": null,
   "metadata": {},
   "outputs": [],
   "source": []
  }
 ],
 "metadata": {
  "kernelspec": {
   "display_name": "Python 3",
   "language": "python",
   "name": "python3"
  },
  "language_info": {
   "codemirror_mode": {
    "name": "ipython",
    "version": 3
   },
   "file_extension": ".py",
   "mimetype": "text/x-python",
   "name": "python",
   "nbconvert_exporter": "python",
   "pygments_lexer": "ipython3",
   "version": "3.7.6"
  }
 },
 "nbformat": 4,
 "nbformat_minor": 4
}
