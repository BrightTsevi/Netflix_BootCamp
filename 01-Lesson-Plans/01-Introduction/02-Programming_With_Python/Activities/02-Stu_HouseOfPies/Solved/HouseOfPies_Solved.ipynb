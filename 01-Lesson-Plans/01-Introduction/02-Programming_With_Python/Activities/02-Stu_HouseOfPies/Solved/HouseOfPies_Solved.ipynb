{
 "cells": [
  {
   "cell_type": "code",
   "execution_count": 1,
   "metadata": {},
   "outputs": [],
   "source": [
    "# Create a dictionary for each of the pies\n",
    "inventory = {\"Pecan\":10 ,\"Apple\":10,\"Blueberry\":10 ,\"Pumpkin\":10 ,\"Chocolate\":10}"
   ]
  },
  {
   "cell_type": "code",
   "execution_count": 2,
   "metadata": {},
   "outputs": [
    {
     "name": "stdout",
     "output_type": "stream",
     "text": [
      "Welcome to the House of Pies! Here are our pies:\n",
      "---------------------------------------------------------------------\n",
      "(1) Pecan, (2) Apple, (3) Blueberry, (4) Pumpkin, (5) Chocolate\n"
     ]
    }
   ],
   "source": [
    "# Print out the welcome statement to the user and display the list of pies\n",
    "print(\"Welcome to the House of Pies! Here are our pies:\")\n",
    "print(\"---------------------------------------------------------------------\")\n",
    "print(\"(1) Pecan, (2) Apple, (3) Blueberry, (4) Pumpkin, (5) Chocolate\")"
   ]
  },
  {
   "cell_type": "code",
   "execution_count": null,
   "metadata": {},
   "outputs": [],
   "source": [
    "# Create the inventory while loop\n",
    "while True:\n",
    "    # Prompt user for input\n",
    "    selection = input(\"Make your selection: \")\n",
    "    # Create if-else to convert selection to pie\n",
    "    if selection == \"1\":\n",
    "        selection = \"Pecan\"\n",
    "    elif selection == \"2\":\n",
    "        selection = \"Apple\"\n",
    "    elif selection == \"3\":\n",
    "        selection = \"Blueberry\"\n",
    "    elif selection == \"4\":\n",
    "        selection = \"Pumpkin\"\n",
    "    elif selection == \"5\":\n",
    "        selection = \"Chocolate\"\n",
    "    # Try to remove pie from inventory and print result to user\n",
    "    try:\n",
    "        if inventory[selection] > 0:\n",
    "            inventory[selection] -= 1\n",
    "            print('Order received.')\n",
    "        else:\n",
    "            raise ValueError\n",
    "    except ValueError:\n",
    "        print(\"Sorry that pie is sold out.\")\n",
    "    # What happens if the user types something besides a number or name of pie?\n",
    "    except:\n",
    "        print(\"Something went wrong. Try again.\")"
   ]
  },
  {
   "cell_type": "code",
   "execution_count": null,
   "metadata": {},
   "outputs": [],
   "source": []
  }
 ],
 "metadata": {
  "kernelspec": {
   "display_name": "Python 3",
   "language": "python",
   "name": "python3"
  },
  "language_info": {
   "codemirror_mode": {
    "name": "ipython",
    "version": 3
   },
   "file_extension": ".py",
   "mimetype": "text/x-python",
   "name": "python",
   "nbconvert_exporter": "python",
   "pygments_lexer": "ipython3",
   "version": "3.7.6"
  }
 },
 "nbformat": 4,
 "nbformat_minor": 4
}
