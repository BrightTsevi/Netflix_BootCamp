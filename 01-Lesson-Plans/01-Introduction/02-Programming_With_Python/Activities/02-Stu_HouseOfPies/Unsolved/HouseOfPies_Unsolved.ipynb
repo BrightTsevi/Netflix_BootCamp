{
 "cells": [
  {
   "cell_type": "code",
   "execution_count": 27,
   "metadata": {},
   "outputs": [],
   "source": [
    "# Create a dictionary for each of the pies\n",
    "available_pies = {'Apple':10,'Cherry':10, 'Peach':10,'Sweet Potato':10}"
   ]
  },
  {
   "cell_type": "code",
   "execution_count": 11,
   "metadata": {},
   "outputs": [
    {
     "name": "stdin",
     "output_type": "stream",
     "text": [
      "Welcome to the house of pies. We have {'apple': 1, 'pecan': 0} lk\n"
     ]
    },
    {
     "name": "stdout",
     "output_type": "stream",
     "text": [
      "lk\n"
     ]
    }
   ],
   "source": [
    "# Print out the welcome statement to the user and display the list of pies\n",
    "response = input(f'Welcome to the house of pies. We have {pie}')\n",
    "print(response)"
   ]
  },
  {
   "cell_type": "code",
   "execution_count": 32,
   "metadata": {},
   "outputs": [
    {
     "name": "stdout",
     "output_type": "stream",
     "text": [
      "Please choose one of our wonderful pies\n",
      "(1) Apple\n",
      "(2) Cherry\n",
      "(3) Peach\n",
      "(4) Sweet Potato\n"
     ]
    },
    {
     "name": "stdin",
     "output_type": "stream",
     "text": [
      "Pick a pie  3\n"
     ]
    },
    {
     "name": "stdout",
     "output_type": "stream",
     "text": [
      "You picked Peach\n",
      "{'Apple': 10, 'Cherry': 9, 'Peach': 9, 'Sweet Potato': 10}\n"
     ]
    },
    {
     "name": "stdin",
     "output_type": "stream",
     "text": [
      "Do you want more? [y/n] y\n"
     ]
    },
    {
     "name": "stdout",
     "output_type": "stream",
     "text": [
      "Please choose one of our wonderful pies\n",
      "(1) Apple\n",
      "(2) Cherry\n",
      "(3) Peach\n",
      "(4) Sweet Potato\n"
     ]
    },
    {
     "name": "stdin",
     "output_type": "stream",
     "text": [
      "Pick a pie  1\n"
     ]
    },
    {
     "name": "stdout",
     "output_type": "stream",
     "text": [
      "You picked Apple\n",
      "{'Apple': 9, 'Cherry': 9, 'Peach': 9, 'Sweet Potato': 10}\n"
     ]
    },
    {
     "name": "stdin",
     "output_type": "stream",
     "text": [
      "Do you want more? [y/n] y\n"
     ]
    },
    {
     "name": "stdout",
     "output_type": "stream",
     "text": [
      "Please choose one of our wonderful pies\n",
      "(1) Apple\n",
      "(2) Cherry\n",
      "(3) Peach\n",
      "(4) Sweet Potato\n"
     ]
    },
    {
     "name": "stdin",
     "output_type": "stream",
     "text": [
      "Pick a pie  2\n"
     ]
    },
    {
     "name": "stdout",
     "output_type": "stream",
     "text": [
      "You picked Cherry\n",
      "{'Apple': 9, 'Cherry': 8, 'Peach': 9, 'Sweet Potato': 10}\n"
     ]
    },
    {
     "name": "stdin",
     "output_type": "stream",
     "text": [
      "Do you want more? [y/n] n\n"
     ]
    }
   ],
   "source": [
    "while True:\n",
    "    print('Please choose one of our wonderful pies')\n",
    "    x = 1\n",
    "    for key in available_pies.keys():\n",
    "        print(\"({}) {}\".format(x,key))\n",
    "        x+=1\n",
    "#     break\n",
    "    choice = int(input('Pick a pie '))\n",
    "    if choice == 1:\n",
    "        print('You picked Apple')\n",
    "        available_pies['Apple']-=1\n",
    "    elif choice ==2:\n",
    "        print('You picked Cherry')\n",
    "        available_pies['Cherry']-=1\n",
    "    elif choice ==3:\n",
    "        print('You picked Peach')\n",
    "        available_pies['Peach']-=1            \n",
    "    elif choice == 4:\n",
    "        print('You picked Sweet Potato')\n",
    "        available_pies['Sweet Potato']-=1\n",
    "        \n",
    "    print(available_pies)\n",
    "    \n",
    "    again = input('Do you want more? [y/n]')\n",
    "    if again =='y':\n",
    "        continue\n",
    "    elif again== 'n':\n",
    "        break\n",
    "        \n",
    "    \n",
    "            \n",
    "        \n",
    "    "
   ]
  },
  {
   "cell_type": "code",
   "execution_count": 3,
   "metadata": {},
   "outputs": [],
   "source": [
    "# Create the inventory while loop\n",
    "\n",
    "    # Prompt user for input\n",
    " \n",
    "    # Create if-else to convert selection to pie\n",
    "\n",
    "    # Try to remove pie from inventory and print result to user"
   ]
  },
  {
   "cell_type": "code",
   "execution_count": 7,
   "metadata": {},
   "outputs": [
    {
     "data": {
      "text/plain": [
       "{'apple': 0, 'pecan': 0}"
      ]
     },
     "execution_count": 7,
     "metadata": {},
     "output_type": "execute_result"
    }
   ],
   "source": [
    "pie = {'apple':0,'pecan':0}\n",
    "pie"
   ]
  },
  {
   "cell_type": "code",
   "execution_count": 8,
   "metadata": {},
   "outputs": [
    {
     "data": {
      "text/plain": [
       "{'apple': 1, 'pecan': 0}"
      ]
     },
     "execution_count": 8,
     "metadata": {},
     "output_type": "execute_result"
    }
   ],
   "source": [
    "pie['apple']+=1\n",
    "pie"
   ]
  },
  {
   "cell_type": "code",
   "execution_count": 18,
   "metadata": {},
   "outputs": [
    {
     "ename": "TypeError",
     "evalue": "unhashable type: 'dict_keys'",
     "output_type": "error",
     "traceback": [
      "\u001b[1;31m---------------------------------------------------------------------------\u001b[0m",
      "\u001b[1;31mTypeError\u001b[0m                                 Traceback (most recent call last)",
      "\u001b[1;32m<ipython-input-18-82221615e662>\u001b[0m in \u001b[0;36m<module>\u001b[1;34m\u001b[0m\n\u001b[0;32m      1\u001b[0m \u001b[0mhey\u001b[0m \u001b[1;33m=\u001b[0m \u001b[1;34m'apple'\u001b[0m\u001b[1;33m\u001b[0m\u001b[1;33m\u001b[0m\u001b[0m\n\u001b[1;32m----> 2\u001b[1;33m \u001b[0mpie\u001b[0m\u001b[1;33m[\u001b[0m\u001b[1;33m[\u001b[0m\u001b[0mpie\u001b[0m\u001b[1;33m.\u001b[0m\u001b[0mkeys\u001b[0m\u001b[1;33m(\u001b[0m\u001b[1;33m)\u001b[0m\u001b[1;33m]\u001b[0m\u001b[1;33m[\u001b[0m\u001b[1;36m0\u001b[0m\u001b[1;33m]\u001b[0m\u001b[1;33m]\u001b[0m\u001b[1;33m\u001b[0m\u001b[1;33m\u001b[0m\u001b[0m\n\u001b[0m",
      "\u001b[1;31mTypeError\u001b[0m: unhashable type: 'dict_keys'"
     ]
    }
   ],
   "source": [
    "hey = 'apple'\n",
    "pie[[pie.keys()][0]]"
   ]
  },
  {
   "cell_type": "code",
   "execution_count": 24,
   "metadata": {},
   "outputs": [
    {
     "data": {
      "text/plain": [
       "dict_keys(['apple', 'pecan'])"
      ]
     },
     "execution_count": 24,
     "metadata": {},
     "output_type": "execute_result"
    }
   ],
   "source": [
    "a = pie.keys()\n",
    "a"
   ]
  }
 ],
 "metadata": {
  "kernelspec": {
   "display_name": "Python 3",
   "language": "python",
   "name": "python3"
  },
  "language_info": {
   "codemirror_mode": {
    "name": "ipython",
    "version": 3
   },
   "file_extension": ".py",
   "mimetype": "text/x-python",
   "name": "python",
   "nbconvert_exporter": "python",
   "pygments_lexer": "ipython3",
   "version": "3.8.5"
  }
 },
 "nbformat": 4,
 "nbformat_minor": 4
}
