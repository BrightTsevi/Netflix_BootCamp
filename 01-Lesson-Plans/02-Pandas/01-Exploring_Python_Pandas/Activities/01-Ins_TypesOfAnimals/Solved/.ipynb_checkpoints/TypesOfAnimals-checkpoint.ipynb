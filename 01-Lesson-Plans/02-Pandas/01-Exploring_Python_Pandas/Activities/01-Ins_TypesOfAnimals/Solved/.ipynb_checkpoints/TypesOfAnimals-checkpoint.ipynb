{
 "cells": [
  {
   "cell_type": "code",
   "execution_count": 1,
   "metadata": {},
   "outputs": [],
   "source": [
    "import pandas as pd"
   ]
  },
  {
   "cell_type": "code",
   "execution_count": 2,
   "metadata": {},
   "outputs": [],
   "source": [
    "# Lists of dogs and cats\n",
    "dogs = ['Golden Retriever', 'Lab', 'German Shepherd', 'Bulldog', 'Beagle']\n",
    "cats = ['Persian', 'American Shorthair', 'Ragdoll', 'Siamese', 'Birman']"
   ]
  },
  {
   "cell_type": "code",
   "execution_count": 3,
   "metadata": {},
   "outputs": [],
   "source": [
    "# Create a new DataFrame\n",
    "df = pd.DataFrame()"
   ]
  },
  {
   "cell_type": "code",
   "execution_count": 4,
   "metadata": {},
   "outputs": [
    {
     "name": "stdout",
     "output_type": "stream",
     "text": [
      "               dogs\n",
      "0  Golden Retriever\n",
      "1               Lab\n",
      "2   German Shepherd\n",
      "3           Bulldog\n",
      "4            Beagle\n"
     ]
    }
   ],
   "source": [
    "# Add dogs column to DataFrame\n",
    "df['dogs'] = dogs\n",
    "print(df)"
   ]
  },
  {
   "cell_type": "code",
   "execution_count": 5,
   "metadata": {},
   "outputs": [
    {
     "name": "stdout",
     "output_type": "stream",
     "text": [
      "               dogs                cats\n",
      "0  Golden Retriever             Persian\n",
      "1               Lab  American Shorthair\n",
      "2   German Shepherd             Ragdoll\n",
      "3           Bulldog             Siamese\n",
      "4            Beagle              Birman\n"
     ]
    }
   ],
   "source": [
    "# Add cats column to DataFrame\n",
    "df['cats'] = cats\n",
    "print(df)"
   ]
  },
  {
   "cell_type": "code",
   "execution_count": 6,
   "metadata": {},
   "outputs": [
    {
     "name": "stdout",
     "output_type": "stream",
     "text": [
      "{'dogs': ['Golden Retriever', 'Lab', 'German Shepherd', 'Bulldog', 'Beagle'], 'cats': ['Persian', 'American Shorthair', 'Ragdoll', 'Siamese', 'Birman']}\n"
     ]
    }
   ],
   "source": [
    "# Create a new dictionary named animals\n",
    "animals = {'dogs': dogs, 'cats': cats}\n",
    "print(animals)"
   ]
  },
  {
   "cell_type": "code",
   "execution_count": 7,
   "metadata": {},
   "outputs": [
    {
     "name": "stdout",
     "output_type": "stream",
     "text": [
      "               dogs                cats\n",
      "0  Golden Retriever             Persian\n",
      "1               Lab  American Shorthair\n",
      "2   German Shepherd             Ragdoll\n",
      "3           Bulldog             Siamese\n",
      "4            Beagle              Birman\n"
     ]
    }
   ],
   "source": [
    "# Create a new DataFrame using a dictionary\n",
    "df = pd.DataFrame(animals, columns=['dogs', 'cats'])\n",
    "print(df)"
   ]
  },
  {
   "cell_type": "code",
   "execution_count": null,
   "metadata": {},
   "outputs": [],
   "source": []
  }
 ],
 "metadata": {
  "kernelspec": {
   "display_name": "Python 3",
   "language": "python",
   "name": "python3"
  },
  "language_info": {
   "codemirror_mode": {
    "name": "ipython",
    "version": 3
   },
   "file_extension": ".py",
   "mimetype": "text/x-python",
   "name": "python",
   "nbconvert_exporter": "python",
   "pygments_lexer": "ipython3",
   "version": "3.7.4"
  }
 },
 "nbformat": 4,
 "nbformat_minor": 2
}
