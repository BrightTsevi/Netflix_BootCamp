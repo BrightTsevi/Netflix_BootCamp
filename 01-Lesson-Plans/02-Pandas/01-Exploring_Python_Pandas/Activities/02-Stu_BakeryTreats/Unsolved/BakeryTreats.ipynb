{
 "cells": [
  {
   "cell_type": "code",
   "execution_count": null,
   "metadata": {},
   "outputs": [],
   "source": [
    "# Import Dependencies"
   ]
  },
  {
   "cell_type": "code",
   "execution_count": null,
   "metadata": {},
   "outputs": [],
   "source": [
    "# Lists of breakfast pastries\n",
    "donuts = ['Glazed', 'Chocolate Frosted', 'Boston Creme', 'Chocolate', 'Maple', 'Powdered']\n",
    "muffins = ['Banana Nut', 'Pumpkin', 'Chocolate Chip', 'Blueberry', 'French Toast', 'Pecan']\n",
    "breads = ['Banana', 'Baguette', 'Brioche', 'Challah', 'Ciabatta', 'Focaccia']"
   ]
  },
  {
   "cell_type": "code",
   "execution_count": null,
   "metadata": {},
   "outputs": [],
   "source": [
    "# Create a new empty DataFrame"
   ]
  },
  {
   "cell_type": "code",
   "execution_count": null,
   "metadata": {},
   "outputs": [],
   "source": [
    "# Add columns to an existing DataFrame"
   ]
  },
  {
   "cell_type": "code",
   "execution_count": null,
   "metadata": {},
   "outputs": [],
   "source": [
    "# Create a new dictionary from multiple lists"
   ]
  },
  {
   "cell_type": "code",
   "execution_count": null,
   "metadata": {},
   "outputs": [],
   "source": [
    "# Create a new DataFrame "
   ]
  },
  {
   "cell_type": "code",
   "execution_count": null,
   "metadata": {},
   "outputs": [],
   "source": [
    "# BONUS: Import the bakerytreats.csv file into a DataFrame. \n",
    "# In the next activity, we will look at a way to do this easier."
   ]
  }
 ],
 "metadata": {
  "kernelspec": {
   "display_name": "Python 3",
   "language": "python",
   "name": "python3"
  },
  "language_info": {
   "codemirror_mode": {
    "name": "ipython",
    "version": 3
   },
   "file_extension": ".py",
   "mimetype": "text/x-python",
   "name": "python",
   "nbconvert_exporter": "python",
   "pygments_lexer": "ipython3",
   "version": "3.7.4"
  }
 },
 "nbformat": 4,
 "nbformat_minor": 2
}
