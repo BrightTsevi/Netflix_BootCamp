{
 "cells": [
  {
   "cell_type": "code",
   "execution_count": 1,
   "metadata": {},
   "outputs": [],
   "source": [
    "# Dependencies\n",
    "import pandas as pd\n",
    "import plotly.express as plt\n",
    "import os"
   ]
  },
  {
   "cell_type": "code",
   "execution_count": 2,
   "metadata": {},
   "outputs": [
    {
     "data": {
      "text/html": [
       "<div>\n",
       "<style scoped>\n",
       "    .dataframe tbody tr th:only-of-type {\n",
       "        vertical-align: middle;\n",
       "    }\n",
       "\n",
       "    .dataframe tbody tr th {\n",
       "        vertical-align: top;\n",
       "    }\n",
       "\n",
       "    .dataframe thead th {\n",
       "        text-align: right;\n",
       "    }\n",
       "</style>\n",
       "<table border=\"1\" class=\"dataframe\">\n",
       "  <thead>\n",
       "    <tr style=\"text-align: right;\">\n",
       "      <th></th>\n",
       "      <th>Unnamed: 0</th>\n",
       "      <th>Date</th>\n",
       "      <th>Day</th>\n",
       "      <th>High Temp (°F)</th>\n",
       "      <th>Low Temp (°F)</th>\n",
       "      <th>Precipitation</th>\n",
       "      <th>Brooklyn Bridge</th>\n",
       "      <th>Manhattan Bridge</th>\n",
       "      <th>Williamsburg Bridge</th>\n",
       "      <th>Queensboro Bridge</th>\n",
       "      <th>Total</th>\n",
       "    </tr>\n",
       "  </thead>\n",
       "  <tbody>\n",
       "    <tr>\n",
       "      <th>0</th>\n",
       "      <td>0</td>\n",
       "      <td>2016-04-01</td>\n",
       "      <td>2016-04-01</td>\n",
       "      <td>78.1</td>\n",
       "      <td>66.0</td>\n",
       "      <td>0.01</td>\n",
       "      <td>1704.0</td>\n",
       "      <td>3126</td>\n",
       "      <td>4115.0</td>\n",
       "      <td>2552.0</td>\n",
       "      <td>11497</td>\n",
       "    </tr>\n",
       "    <tr>\n",
       "      <th>1</th>\n",
       "      <td>1</td>\n",
       "      <td>2016-04-02</td>\n",
       "      <td>2016-04-02</td>\n",
       "      <td>55.0</td>\n",
       "      <td>48.9</td>\n",
       "      <td>0.15</td>\n",
       "      <td>827.0</td>\n",
       "      <td>1646</td>\n",
       "      <td>2565.0</td>\n",
       "      <td>1884.0</td>\n",
       "      <td>6922</td>\n",
       "    </tr>\n",
       "    <tr>\n",
       "      <th>2</th>\n",
       "      <td>2</td>\n",
       "      <td>2016-04-03</td>\n",
       "      <td>2016-04-03</td>\n",
       "      <td>39.9</td>\n",
       "      <td>34.0</td>\n",
       "      <td>0.09</td>\n",
       "      <td>526.0</td>\n",
       "      <td>1232</td>\n",
       "      <td>1695.0</td>\n",
       "      <td>1306.0</td>\n",
       "      <td>4759</td>\n",
       "    </tr>\n",
       "    <tr>\n",
       "      <th>3</th>\n",
       "      <td>3</td>\n",
       "      <td>2016-04-04</td>\n",
       "      <td>2016-04-04</td>\n",
       "      <td>44.1</td>\n",
       "      <td>33.1</td>\n",
       "      <td>0.47 (S)</td>\n",
       "      <td>521.0</td>\n",
       "      <td>1067</td>\n",
       "      <td>1440.0</td>\n",
       "      <td>1307.0</td>\n",
       "      <td>4335</td>\n",
       "    </tr>\n",
       "    <tr>\n",
       "      <th>4</th>\n",
       "      <td>4</td>\n",
       "      <td>2016-04-05</td>\n",
       "      <td>2016-04-05</td>\n",
       "      <td>42.1</td>\n",
       "      <td>26.1</td>\n",
       "      <td>0</td>\n",
       "      <td>1416.0</td>\n",
       "      <td>2617</td>\n",
       "      <td>3081.0</td>\n",
       "      <td>2357.0</td>\n",
       "      <td>9471</td>\n",
       "    </tr>\n",
       "  </tbody>\n",
       "</table>\n",
       "</div>"
      ],
      "text/plain": [
       "   Unnamed: 0        Date        Day  High Temp (°F)  Low Temp (°F)  \\\n",
       "0           0  2016-04-01 2016-04-01            78.1           66.0   \n",
       "1           1  2016-04-02 2016-04-02            55.0           48.9   \n",
       "2           2  2016-04-03 2016-04-03            39.9           34.0   \n",
       "3           3  2016-04-04 2016-04-04            44.1           33.1   \n",
       "4           4  2016-04-05 2016-04-05            42.1           26.1   \n",
       "\n",
       "  Precipitation  Brooklyn Bridge  Manhattan Bridge  Williamsburg Bridge  \\\n",
       "0          0.01           1704.0              3126               4115.0   \n",
       "1          0.15            827.0              1646               2565.0   \n",
       "2          0.09            526.0              1232               1695.0   \n",
       "3      0.47 (S)            521.0              1067               1440.0   \n",
       "4             0           1416.0              2617               3081.0   \n",
       "\n",
       "   Queensboro Bridge  Total  \n",
       "0             2552.0  11497  \n",
       "1             1884.0   6922  \n",
       "2             1306.0   4759  \n",
       "3             1307.0   4335  \n",
       "4             2357.0   9471  "
      ]
     },
     "execution_count": 2,
     "metadata": {},
     "output_type": "execute_result"
    }
   ],
   "source": [
    "bikecounts_file = os.path.join('../','Resources', 'bikecounts.csv')\n",
    "bikecounts_df = pd.read_csv(bikecounts_file)\n",
    "bikecounts_df['Day'] = pd.to_datetime(bikecounts_df['Day'])\n",
    "bikecounts_df.head()"
   ]
  },
  {
   "cell_type": "markdown",
   "metadata": {},
   "source": [
    "## Hypothesis\n",
    "### The number of bikes that uses the Brooklyn Bridge varies directly as the high temep"
   ]
  },
  {
   "cell_type": "markdown",
   "metadata": {},
   "source": [
    "## Null Hypothesis\n",
    "### The number of bikes crossing the Brooklyn Bridge has no statistical relationship with highest temperature recorded in a day.\n",
    "\n",
    "#### This test is being done with an alpha value of 0.05. Therefore, a pvalue less than 0.05 will result in the null hypothesis not being accepted"
   ]
  },
  {
   "cell_type": "code",
   "execution_count": 9,
   "metadata": {},
   "outputs": [
    {
     "name": "stdout",
     "output_type": "stream",
     "text": [
      "                                 OLS Regression Results                                \n",
      "=======================================================================================\n",
      "Dep. Variable:        Brooklyn Bridge   R-squared (uncentered):                   0.914\n",
      "Model:                            OLS   Adj. R-squared (uncentered):              0.911\n",
      "Method:                 Least Squares   F-statistic:                              308.6\n",
      "Date:                Sat, 27 Mar 2021   Prob (F-statistic):                    5.35e-17\n",
      "Time:                        20:42:51   Log-Likelihood:                         -240.13\n",
      "No. Observations:                  30   AIC:                                      482.3\n",
      "Df Residuals:                      29   BIC:                                      483.7\n",
      "Df Model:                           1                                                  \n",
      "Covariance Type:            nonrobust                                                  \n",
      "==================================================================================\n",
      "                     coef    std err          t      P>|t|      [0.025      0.975]\n",
      "----------------------------------------------------------------------------------\n",
      "High Temp (°F)    38.3642      2.184     17.567      0.000      33.898      42.831\n",
      "==============================================================================\n",
      "Omnibus:                        5.429   Durbin-Watson:                   1.032\n",
      "Prob(Omnibus):                  0.066   Jarque-Bera (JB):                2.336\n",
      "Skew:                          -0.365   Prob(JB):                        0.311\n",
      "Kurtosis:                       1.844   Cond. No.                         1.00\n",
      "==============================================================================\n",
      "\n",
      "Notes:\n",
      "[1] R² is computed without centering (uncentered) since the model does not contain a constant.\n",
      "[2] Standard Errors assume that the covariance matrix of the errors is correctly specified.\n"
     ]
    }
   ],
   "source": [
    "import statsmodels.api as sm\n",
    "model = sm.OLS(bikecounts_df['Brooklyn Bridge'],bikecounts_df['High Temp (°F)'])\n",
    "results = model.fit()0\n",
    "print(results.summary())"
   ]
  },
  {
   "cell_type": "markdown",
   "metadata": {},
   "source": [
    "#### The pvalue of 5.35e-17 given by the probability of the F-statistic which is lower than the alpha value.\n",
    "#### Therefore, we fail to accept the null hypothesis\n",
    "##### ===========================================================================================\n",
    "## Regression Line shown Below"
   ]
  },
  {
   "cell_type": "code",
   "execution_count": 13,
   "metadata": {},
   "outputs": [
    {
     "name": "stderr",
     "output_type": "stream",
     "text": [
      "C:\\ProgramData\\Anaconda3\\lib\\site-packages\\seaborn\\_decorators.py:36: FutureWarning: Pass the following variables as keyword args: x, y. From version 0.12, the only valid positional argument will be `data`, and passing other arguments without an explicit keyword will result in an error or misinterpretation.\n",
      "  warnings.warn(\n"
     ]
    },
    {
     "data": {
      "text/plain": [
       "<AxesSubplot:xlabel='High Temp (°F)', ylabel='Brooklyn Bridge'>"
      ]
     },
     "execution_count": 13,
     "metadata": {},
     "output_type": "execute_result"
    },
    {
     "data": {
      "image/png": "[encoded data removed]",
      "text/plain": [
       "<Figure size 432x288 with 1 Axes>"
      ]
     },
     "metadata": {
      "needs_background": "light"
     },
     "output_type": "display_data"
    }
   ],
   "source": [
    "import seaborn as sns\n",
    "sns.regplot(bikecounts_df['High Temp (°F)'],bikecounts_df['Brooklyn Bridge'])"
   ]
  }
 ],
 "metadata": {
  "kernelspec": {
   "display_name": "Python 3",
   "language": "python",
   "name": "python3"
  },
  "language_info": {
   "codemirror_mode": {
    "name": "ipython",
    "version": 3
   },
   "file_extension": ".py",
   "mimetype": "text/x-python",
   "name": "python",
   "nbconvert_exporter": "python",
   "pygments_lexer": "ipython3",
   "version": "3.8.5"
  }
 },
 "nbformat": 4,
 "nbformat_minor": 2
}
